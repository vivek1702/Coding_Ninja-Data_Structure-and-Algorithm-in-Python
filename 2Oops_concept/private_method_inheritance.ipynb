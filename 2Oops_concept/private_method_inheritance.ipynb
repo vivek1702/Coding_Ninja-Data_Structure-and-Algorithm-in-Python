{
 "cells": [
  {
   "cell_type": "code",
   "execution_count": 9,
   "metadata": {},
   "outputs": [],
   "source": [
    "class vehicle:  #parent class\n",
    "    def __init__(self, model, maker, fuel_type):\n",
    "        self.a = model\n",
    "        # making attribute private\n",
    "        self.__b = maker\n",
    "        self.__c = fuel_type\n",
    "\n",
    "    def __private_method(self):\n",
    "        print(\"this is private\")"
   ]
  },
  {
   "cell_type": "code",
   "execution_count": 13,
   "metadata": {},
   "outputs": [],
   "source": [
    "class car(vehicle):   #child class\n",
    "    def __init__(self, model, maker, fuel_type, sunroof, color):\n",
    "        #parent attribute\n",
    "        vehicle.a = model\n",
    "        vehicle.__b = maker\n",
    "        vehicle.__c = fuel_type\n",
    "\n",
    "        self.x = sunroof\n",
    "        self.y = color\n",
    "\n",
    "    def show_parent_atribute(self):\n",
    "        print(vehicle.a, vehicle.__b, vehicle.__c)\n",
    "\n",
    "    def show_private_method(self):\n",
    "        self._vehicle__private_method()"
   ]
  },
  {
   "cell_type": "code",
   "execution_count": 14,
   "metadata": {},
   "outputs": [],
   "source": [
    "obj = car('fortuner','toyota','petrol',True,'red')"
   ]
  },
  {
   "cell_type": "code",
   "execution_count": 15,
   "metadata": {},
   "outputs": [
    {
     "name": "stdout",
     "output_type": "stream",
     "text": [
      "this is private\n"
     ]
    }
   ],
   "source": [
    "obj.show_private_method()"
   ]
  },
  {
   "cell_type": "code",
   "execution_count": null,
   "metadata": {},
   "outputs": [],
   "source": []
  }
 ],
 "metadata": {
  "kernelspec": {
   "display_name": "Python 3.9.7 ('base')",
   "language": "python",
   "name": "python3"
  },
  "language_info": {
   "codemirror_mode": {
    "name": "ipython",
    "version": 3
   },
   "file_extension": ".py",
   "mimetype": "text/x-python",
   "name": "python",
   "nbconvert_exporter": "python",
   "pygments_lexer": "ipython3",
   "version": "3.9.7"
  },
  "orig_nbformat": 4,
  "vscode": {
   "interpreter": {
    "hash": "43cf44b7b7fa4ecd2a943397dc0b62a96b7688565775da39cba7e1938a3be913"
   }
  }
 },
 "nbformat": 4,
 "nbformat_minor": 2
}
