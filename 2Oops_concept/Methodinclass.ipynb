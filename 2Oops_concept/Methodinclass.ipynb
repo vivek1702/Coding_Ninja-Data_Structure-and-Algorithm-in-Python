{
 "cells": [
  {
   "cell_type": "code",
   "execution_count": 37,
   "metadata": {},
   "outputs": [],
   "source": [
    "class expense_tracker:\n",
    "    version = 0.1  #class attributes\n",
    "\n",
    "    def __init__(self, trackor_category, opening, budget):\n",
    "        #instanct/object variables\n",
    "\n",
    "        #public attribute\n",
    "        self.tracker  = trackor_category\n",
    "\n",
    "        # private attribute\n",
    "        self.__o = opening   #by adding double (__) in attribute we make it private\n",
    "        self.__b = budget\n",
    "\n",
    "    #instance method\n",
    "    #private method\n",
    "    def __original_balance(self):   #by adding double (__) in method we make it private\n",
    "        return self.__o\n",
    "\n",
    "    #instance method\n",
    "    def get_budget(self):\n",
    "        return self.b\n",
    "\n",
    "    @staticmethod\n",
    "    def covert_method(amount):\n",
    "        return float(amount)\n",
    "\n",
    "    @classmethod\n",
    "    def get_attribute_from_class(cls, dairy_entery:str):\n",
    "        tracker, o, b = dairy_entery.split(\" \")\n",
    "\n",
    "        return expense_tracker(tracker.capitalize(),      #call the static method and class instance in it\n",
    "                                cls.covert_method(o),     #using cls\n",
    "                                cls.covert_method(b))\n",
    "\n"
   ]
  },
  {
   "cell_type": "code",
   "execution_count": 32,
   "metadata": {},
   "outputs": [],
   "source": [
    "class_object = expense_tracker.get_attribute_from_class(\"dinner 100 500\")"
   ]
  },
  {
   "cell_type": "code",
   "execution_count": 33,
   "metadata": {},
   "outputs": [
    {
     "data": {
      "text/plain": [
       "{'tracker': 'Dinner', 'o': 100.0, 'b': 500.0}"
      ]
     },
     "execution_count": 33,
     "metadata": {},
     "output_type": "execute_result"
    }
   ],
   "source": [
    "class_object.__dict__"
   ]
  },
  {
   "cell_type": "code",
   "execution_count": 25,
   "metadata": {},
   "outputs": [
    {
     "data": {
      "text/plain": [
       "50"
      ]
     },
     "execution_count": 25,
     "metadata": {},
     "output_type": "execute_result"
    }
   ],
   "source": [
    "obj1 = expense_tracker(\"dinner\", 50, 100)\n",
    "obj1.original_balance()"
   ]
  },
  {
   "cell_type": "code",
   "execution_count": 19,
   "metadata": {},
   "outputs": [
    {
     "data": {
      "text/plain": [
       "10000"
      ]
     },
     "execution_count": 19,
     "metadata": {},
     "output_type": "execute_result"
    }
   ],
   "source": [
    "obj2 = expense_tracker(\"lunch\", 1000, 10000)\n",
    "obj2.original_balance()\n",
    "obj2.get_budget()"
   ]
  },
  {
   "cell_type": "code",
   "execution_count": 42,
   "metadata": {},
   "outputs": [
    {
     "data": {
      "text/plain": [
       "10"
      ]
     },
     "execution_count": 42,
     "metadata": {},
     "output_type": "execute_result"
    }
   ],
   "source": [
    "#how we can access the private \n",
    "home = expense_tracker(\"bomb\", 10, 50)\n",
    "home._expense_tracker__o"
   ]
  }
 ],
 "metadata": {
  "kernelspec": {
   "display_name": "Python 3.9.7 ('base')",
   "language": "python",
   "name": "python3"
  },
  "language_info": {
   "codemirror_mode": {
    "name": "ipython",
    "version": 3
   },
   "file_extension": ".py",
   "mimetype": "text/x-python",
   "name": "python",
   "nbconvert_exporter": "python",
   "pygments_lexer": "ipython3",
   "version": "3.9.7"
  },
  "orig_nbformat": 4,
  "vscode": {
   "interpreter": {
    "hash": "43cf44b7b7fa4ecd2a943397dc0b62a96b7688565775da39cba7e1938a3be913"
   }
  }
 },
 "nbformat": 4,
 "nbformat_minor": 2
}
