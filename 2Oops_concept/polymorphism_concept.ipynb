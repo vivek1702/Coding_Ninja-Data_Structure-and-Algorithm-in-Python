{
 "cells": [
  {
   "cell_type": "code",
   "execution_count": 1,
   "metadata": {},
   "outputs": [],
   "source": [
    "class Vehicle():\n",
    "    current_year = 2021\n",
    "    base_price = 1000\n",
    "\n",
    "    def __init__(self, make, model, fuel):\n",
    "        self.make = make\n",
    "        #private\n",
    "        self.__model = model\n",
    "        self.__fuel = fuel\n",
    "\n",
    "    def __Private_method_parent(self):\n",
    "        print(\"this is private\")\n",
    "\n",
    "    #default function to get a value of car\n",
    "    def get_value(self):\n",
    "        age = Vehicle.current_year * self.__model\n",
    "        return Vehicle.base_price * (1/age)"
   ]
  },
  {
   "cell_type": "code",
   "execution_count": 2,
   "metadata": {},
   "outputs": [],
   "source": [
    "#child class\n",
    "class car(Vehicle):\n",
    "    def __init__(self, model, make, fuel, sunroof, color):\n",
    "\n",
    "        super(car, self).__init__(make, model, fuel)\n",
    "\n",
    "        self.x = sunroof\n",
    "        self.y = color\n",
    "\n",
    "    #overriding Method -replace the parent default method\n",
    "    def get_value(self):\n",
    "        Vehicle.base_price = 5000\n",
    "        age = Vehicle.current_year * self.__model\n",
    "        return Vehicle.base_price * (1/age)\n",
    "        "
   ]
  }
 ],
 "metadata": {
  "kernelspec": {
   "display_name": "Python 3.9.7 ('base')",
   "language": "python",
   "name": "python3"
  },
  "language_info": {
   "codemirror_mode": {
    "name": "ipython",
    "version": 3
   },
   "file_extension": ".py",
   "mimetype": "text/x-python",
   "name": "python",
   "nbconvert_exporter": "python",
   "pygments_lexer": "ipython3",
   "version": "3.9.7"
  },
  "orig_nbformat": 4,
  "vscode": {
   "interpreter": {
    "hash": "43cf44b7b7fa4ecd2a943397dc0b62a96b7688565775da39cba7e1938a3be913"
   }
  }
 },
 "nbformat": 4,
 "nbformat_minor": 2
}
