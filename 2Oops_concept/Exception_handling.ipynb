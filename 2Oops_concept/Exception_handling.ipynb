{
 "cells": [
  {
   "cell_type": "code",
   "execution_count": 1,
   "metadata": {},
   "outputs": [],
   "source": [
    "class car:\n",
    "    def __init__(self, make , model, fuel):\n",
    "        self.make = make\n",
    "        self.model =model\n",
    "        self.fuel = fuel\n",
    "\n",
    "    def get_value(self):\n",
    "        try:\n",
    "            age = 2021 - self.model\n",
    "            return 1000 * (1/age)\n",
    "        except:\n",
    "            try:\n",
    "                age = 2021 - int(self.model)\n",
    "                return 1000 * (1/age)\n",
    "            except ZeroDivisionError:\n",
    "                age = 2021 - int(self.model)\n",
    "                return 1000 * (1)\n",
    "            except:\n",
    "                return \"you have entered wrong value\"\n"
   ]
  },
  {
   "cell_type": "code",
   "execution_count": 5,
   "metadata": {},
   "outputs": [
    {
     "data": {
      "text/plain": [
       "'you have entered wrong value'"
      ]
     },
     "execution_count": 5,
     "metadata": {},
     "output_type": "execute_result"
    }
   ],
   "source": [
    "obj = car('tesla', 'new', 'disel')\n",
    "obj.get_value()"
   ]
  },
  {
   "cell_type": "code",
   "execution_count": 6,
   "metadata": {},
   "outputs": [],
   "source": [
    "class negativeValueError(Exception):\n",
    "\n",
    "    def __init__(self, value, message=\"car value cannot be negative\"):\n",
    "        self.value = value\n",
    "        self.message = message\n",
    "        super().__init__(self.message)\n",
    "\n",
    "    def __str__(self):\n",
    "        return f'{self.message,\"   \", self.value}'\n"
   ]
  },
  {
   "cell_type": "code",
   "execution_count": null,
   "metadata": {},
   "outputs": [],
   "source": [
    "a = -1\n",
    "if a < 0:\n",
    "    raise(negativeValueError(a))"
   ]
  },
  {
   "cell_type": "code",
   "execution_count": null,
   "metadata": {},
   "outputs": [],
   "source": [
    "class Vehicle():\n",
    "    def __init__(self, make, model, fuel):\n",
    "        self.make = make\n",
    "        self.model = model\n",
    "        self.fuel = fuel\n",
    "        self.current_year = 2021\n",
    "\n",
    "    def get_value(self):\n",
    "        age = self.current_year - self.model\n",
    "\n",
    "        if age < 0:\n",
    "            raise negativeValueError\n",
    "        else:\n",
    "            return 1000 * (1/age)\n"
   ]
  },
  {
   "cell_type": "code",
   "execution_count": 9,
   "metadata": {},
   "outputs": [
    {
     "name": "stdout",
     "output_type": "stream",
     "text": [
      "'Zero Division Error occured',end= \n"
     ]
    }
   ],
   "source": [
    "class ZeroDenominatorError(ZeroDivisionError):\n",
    "    pass\n",
    "try:\n",
    "    a = 10\n",
    "    b = 0\n",
    "    if(b==0):\n",
    "        raise ZeroDenominatorError()\n",
    "    c = a/b\n",
    "except ZeroDivisionError:\n",
    "    print(\"'Zero Division Error occured',end= \"\"\")\n",
    "except ZeroDenominatorError:\n",
    "    print(\"'Zero Denominator Error occured',end = \" \"\")\n",
    "else:\n",
    "    print(\"‘else works’\")"
   ]
  }
 ],
 "metadata": {
  "kernelspec": {
   "display_name": "Python 3.9.7 ('base')",
   "language": "python",
   "name": "python3"
  },
  "language_info": {
   "codemirror_mode": {
    "name": "ipython",
    "version": 3
   },
   "file_extension": ".py",
   "mimetype": "text/x-python",
   "name": "python",
   "nbconvert_exporter": "python",
   "pygments_lexer": "ipython3",
   "version": "3.9.7"
  },
  "orig_nbformat": 4,
  "vscode": {
   "interpreter": {
    "hash": "43cf44b7b7fa4ecd2a943397dc0b62a96b7688565775da39cba7e1938a3be913"
   }
  }
 },
 "nbformat": 4,
 "nbformat_minor": 2
}
